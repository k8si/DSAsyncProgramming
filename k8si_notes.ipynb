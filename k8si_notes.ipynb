{
 "cells": [
  {
   "cell_type": "markdown",
   "metadata": {},
   "source": [
    "* \"However, when analyzing the execution time obtained from the two versions of our Fibonacci-finding program, it was actually the sequential version that resulted in better speed. \" -- This wasn't the case on my computer (sequential took 12.55 s, async took 12.31). That's why I changed this part.\n",
    "* Might want to spend some time talking about the difference between concurrency vs. parallelism. You hint at this difference in the \"CPU-Bound and Blocking Tasks\" section but you could address it more directly.\n",
    "* Is a task the same thing as a coroutine? Is there a formal definition of \"task\"?\n",
    "* Unless you want to explain the difference between multithreading and multiprocessing, you should pick one of \"multithreading\" or \"multiprocessing\" (and note somewhere that concurrent.futures supports both). It's annoying to read \"multithreading/multiprocessing\" and \"threads/processes\" in so many places."
   ]
  },
  {
   "cell_type": "code",
   "execution_count": null,
   "metadata": {},
   "outputs": [],
   "source": []
  }
 ],
 "metadata": {
  "kernelspec": {
   "display_name": "Python 3",
   "language": "python",
   "name": "python3"
  },
  "language_info": {
   "codemirror_mode": {
    "name": "ipython",
    "version": 3
   },
   "file_extension": ".py",
   "mimetype": "text/x-python",
   "name": "python",
   "nbconvert_exporter": "python",
   "pygments_lexer": "ipython3",
   "version": "3.6.5"
  },
  "toc": {
   "colors": {
    "hover_highlight": "#DAA520",
    "navigate_num": "#000000",
    "navigate_text": "#333333",
    "running_highlight": "#FF0000",
    "selected_highlight": "#FFD700",
    "sidebar_border": "#EEEEEE",
    "wrapper_background": "#FFFFFF"
   },
   "moveMenuLeft": true,
   "nav_menu": {
    "height": "12px",
    "width": "252px"
   },
   "navigate_menu": true,
   "number_sections": true,
   "sideBar": true,
   "threshold": 4,
   "toc_cell": false,
   "toc_section_display": "block",
   "toc_window_display": true,
   "widenNotebook": false
  }
 },
 "nbformat": 4,
 "nbformat_minor": 2
}
