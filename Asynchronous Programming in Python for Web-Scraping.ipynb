{
 "cells": [
  {
   "cell_type": "markdown",
   "metadata": {},
   "source": [
    "# Prerequisites\n",
    "- Experience with the specific topic: Novice\n",
    "- Professional experience: No industry experience required\n",
    "\n",
    "Knowledge of general concurrent programming is not required, but the reader should be familiar with basic Python programming, as well as the basic theories behind web scraping.\n",
    "\n",
    "\n",
    "# Introduction to Asynchronous Programming\n",
    "\n",
    "This tutorial will provide an overview of asynchronous programming. It will cover conceptual elements of asynchronous programming, the basics of Python's async API's, and an example implementation of an asynchronous web scraper.\n",
    "\n",
    "Synchronous programs are straightfoward: start a task, wait for it to finish, repeat until all tasks have executed; however, waiting wastes valuable CPU cycles. Asynchronous programs remedy this problem by using context-switching to interleave tasks in order to minimize processor idle-time, minimize total program execution time, and improve program responsiveness. \n",
    "\n",
    "\n",
    "## Simultaneous Chess Analogy\n",
    "\n",
    "<table class=\"image\">\n",
    "    <caption align=\"bottom\" style=\"text-align: center\">Simultaneous Chess by Samuel Reshevsky</caption>\n",
    "    <tr><td><img width=500 src=\"images/Samuel_Reshevsky_age_8_defeating_several_chess_masters_at_once_in_France_1920.jpg\"></img></td></tr>\n",
    "</table>\n",
    "\n",
    "To understand the benefit of asynchronous programming, consider the following scenario:\n",
    "\n",
    "Ten opponents have challenged you to a game of chess. Since you are very good at chess, you take three minutes per move, whereas each of your opponents take five minutes. Assume that each full game takes twenty moves per player, or forty moves in total. \n",
    "\n",
    "The time it takes to play one full game is:\n",
    "\n",
    "    num_moves * my_move_time + num_moves * opponent_move_time\n",
    "    = 20 * 3 + 20 * 5\n",
    "    = 160 minutes\n",
    "\n",
    "Playing through each of the 10 games, one after the other, would take about 27 hours. \n",
    "\n",
    "Notice that, when you play the games sequentially, you spend a lot of time waiting. Each time you make a move, you have to spend 5 minutes waiting while your opponent responds. In fact, you wait for 100 minutes, or 62.5%, of each 160 minute game. That's 16.66 hours across all 10 games.\n",
    "\n",
    "Instead of waiting, suppose that as soon as you finish making your move in a given game, you immediately progress to the next opponent. Starting with opponent 1, you take 3 minutes to make a move. Then you progress on to opponent `2, 3, ..., 10`. When you've finished your move with the 10th opponent, you return to the game with opponent 1. Let's call this process a _round_.\n",
    "\n",
    "While you're progressing through opponents 2...10, opponent 1 has `(num_opponents - 1) * my_move_time = (10-1) * 3 = 27 minutes > 5 minutes` to think and make their next move -- therefore, when you come back to opponent 1 at the start of the next round, you can immediately make your move without waiting for them to finish up. \n",
    "\n",
    "In general, as long as each opponent takes less than `(num_opponents - 1) * my_move_time` to make their move, you will spend no time waiting. Each round will take `num_opponents*my_move_time = 10*3 = 30 minutes`. Since we're assuming each game consists of 40 moves and we complete 2 moves per game in each round (your move and the opponent's move), it will take 20 rounds to complete all the games. So, we have that all 10 games will take `30 minutes * 20 rounds = 600 minutes = 10 hours`, which is a 270% speedup over the sequential approach.\n",
    "\n",
    "\n",
    "# Asynchronous Programming in Python\n",
    "\n",
    "In this section we will be discussing the specifics of implementing an asynchronous program in Python. First we will go over the general structure of an asynchronous program and its main elements, then we will learn about specific APIs that Python provides to facilitate asynchronous programming, and finally we will try our hands with a starting problem of programming asynchrously.\n",
    "\n",
    "## Coroutines, Event Loops, and Futures\n",
    "\n",
    "Coroutines, event loops, and futures are the essential elements of an asynchronous program.\n",
    "\n",
    "- The **event loop** handles the task-switching aspect, or execution flow, of the program. It keeps track of all the tasks that are to be run asynchronously and decides which of those should be executed at a given moment.\n",
    "- A **coroutine** is a special type of function that wraps around a specific task so that it can be executed asynchronously. A coroutine specifies where in the function the task-switching event should take place -- this is when the execution flow is returned from the function back to the event loop. Coroutines are typically created by the event loop, and stored internally in a task queue.\n",
    "- A **future** is a placeholder for a result returned from a coroutine. _As soon as the event loop initiates a coroutine, a corresponding future is created that stores the result of the coroutine, or an exception if one was thrown during the coroutine's execution._\n",
    "\n",
    "To illustrate these concepts, let's start with a simple synchronous countdown program:"
   ]
  },
  {
   "cell_type": "code",
   "execution_count": 1,
   "metadata": {},
   "outputs": [
    {
     "name": "stdout",
     "output_type": "stream",
     "text": [
      "----------------------------------------\n",
      "1.0031 \ta = 3\n",
      "----------------------------------------\n",
      "2.0051 \ta = 2\n",
      "----------------------------------------\n",
      "3.0096 \ta = 1\n",
      "----------------------------------------\n",
      "3.8113 \t\tb = 3\n",
      "----------------------------------------\n",
      "4.6170 \t\tb = 2\n",
      "----------------------------------------\n",
      "5.4183 \t\tb = 1\n",
      "----------------------------------------\n",
      "5.9241 \t\t\tc = 3\n",
      "----------------------------------------\n",
      "6.4284 \t\t\tc = 2\n",
      "----------------------------------------\n",
      "6.9295 \t\t\tc = 1\n",
      "----------------------------------------\n",
      "Finished.\n"
     ]
    }
   ],
   "source": [
    "import time\n",
    "\n",
    "def seq_countdown(name, delay):\n",
    "    # padding space for formatting\n",
    "    indents = (ord(name) - ord('a')) * '\\t'\n",
    "    n = 3\n",
    "    while n:\n",
    "        time.sleep(delay)\n",
    "        # elapsed time from the beginning\n",
    "        duration = time.perf_counter() - start\n",
    "        print('-' * 40)\n",
    "        # message of the form: duration letter = countdown\n",
    "        print(f'{duration:.4f} \\t{indents}{name} = {n}')\n",
    "        n -= 1\n",
    "        \n",
    "start = time.perf_counter()\n",
    "\n",
    "seq_countdown('a', 1)\n",
    "seq_countdown('b', 0.8)\n",
    "seq_countdown('c', 0.5)\n",
    "\n",
    "print('-' * 40)\n",
    "print('Finished.')"
   ]
  },
  {
   "cell_type": "markdown",
   "metadata": {},
   "source": [
    "Currently, the execution time of this program is `3a + 3b + 3c = 7 seconds` -- however, if we run these countdowns asynchronously, the total execution time should become `max(3a, 3b, 3c) = 3 seconds`, a 233% speedup. How can we rewrite this synchronous program as an asynchronous one?\n",
    "\n",
    "## Python: `async`, `await`, and `asyncio`\n",
    "\n",
    "Python 3.5 ([PEP 492](https://www.python.org/dev/peps/pep-0492/)) added two new keywords to support asynchronous programming: `async` and `await`. It also added a builtin module called `asyncio`.\n",
    "\n",
    "The `async` keyword indicates to the interpreter that the function defintion that follows should be flagged as a coroutine. For example:"
   ]
  },
  {
   "cell_type": "code",
   "execution_count": 2,
   "metadata": {},
   "outputs": [],
   "source": [
    "async def my_coroutine(name):\n",
    "    return 'hi: ' + name"
   ]
  },
  {
   "cell_type": "markdown",
   "metadata": {},
   "source": [
    "As we discussed above, each coroutine has to specify when a task-switching event will take place. The `await` expression is used to mark where execution flow will be released."
   ]
  },
  {
   "cell_type": "code",
   "execution_count": 3,
   "metadata": {},
   "outputs": [
    {
     "name": "stdout",
     "output_type": "stream",
     "text": [
      "hi: hi\n",
      "<coroutine object my_coroutine at 0x10e4bac50>\n"
     ]
    }
   ],
   "source": [
    "# await executes my_coroutine and blocks until the coroutine returns\n",
    "result = await my_coroutine('hi')\n",
    "print(result)\n",
    "\n",
    "# this never actually executes the coroutine\n",
    "result = my_coroutine('hi')\n",
    "print(result)"
   ]
  },
  {
   "cell_type": "markdown",
   "metadata": {},
   "source": [
    "The `asyncio` module provides high-level routines for creating event loops (among other things):"
   ]
  },
  {
   "cell_type": "code",
   "execution_count": 4,
   "metadata": {},
   "outputs": [
    {
     "name": "stdout",
     "output_type": "stream",
     "text": [
      "{<Task finished coro=<my_coroutine() done, defined at <ipython-input-2-0794f3540232>:1> result='hi: bar'>, <Task finished coro=<my_coroutine() done, defined at <ipython-input-2-0794f3540232>:1> result='hi: foo'>}\n",
      "set()\n"
     ]
    }
   ],
   "source": [
    "import asyncio\n",
    "\n",
    "# create an event loop (an instance of asyncio.AbstractEventLoop)\n",
    "event_loop = asyncio.get_event_loop()\n",
    "\n",
    "# populate the event loop's task queue\n",
    "tasks = [event_loop.create_task(my_coroutine('foo')),\n",
    "        event_loop.create_task(my_coroutine('bar'))]\n",
    "\n",
    "# blocks until all future are complete\n",
    "complete, pending = event_loop.run_until_complete(asyncio.wait(tasks))\n",
    "print(complete)\n",
    "# should be an empty set\n",
    "print(pending)"
   ]
  },
  {
   "cell_type": "code",
   "execution_count": 5,
   "metadata": {},
   "outputs": [],
   "source": [
    "import asyncio\n",
    "\n",
    "async def async_countdown(name, delay):\n",
    "    # padding space for formatting\n",
    "    indents = (ord(name) - ord('a')) * '\\t'\n",
    "    \n",
    "    n = 3\n",
    "    while n:\n",
    "        await asyncio.sleep(delay)\n",
    "        \n",
    "        # elapsed time from the beginning\n",
    "        duration = time.perf_counter() - start\n",
    "        print('-' * 40)\n",
    "        # message of the form: duration letter = countdown\n",
    "        print(f'{duration:.4f} \\t{indents}{name} = {n}')\n",
    "        \n",
    "        n -= 1"
   ]
  },
  {
   "cell_type": "markdown",
   "metadata": {},
   "source": [
    "We now need to initialize and manage an event loop. Specifically, we'll create an empty event loop with the `asyncio.get_event_loop()` method, add all of the three countdown tasks into the task queue with `create_task()`, and finally start running the event loop with `run_until_complete()`:"
   ]
  },
  {
   "cell_type": "code",
   "execution_count": 6,
   "metadata": {},
   "outputs": [
    {
     "name": "stdout",
     "output_type": "stream",
     "text": [
      "----------------------------------------\n",
      "0.5017 \t\t\tc = 3\n",
      "----------------------------------------\n",
      "0.8035 \t\tb = 3\n",
      "----------------------------------------\n",
      "1.0018 \ta = 3\n",
      "----------------------------------------\n",
      "1.0029 \t\t\tc = 2\n",
      "----------------------------------------\n",
      "1.5064 \t\t\tc = 1\n",
      "----------------------------------------\n",
      "1.6066 \t\tb = 2\n",
      "----------------------------------------\n",
      "2.0047 \ta = 2\n",
      "----------------------------------------\n",
      "2.4077 \t\tb = 1\n",
      "----------------------------------------\n",
      "3.0094 \ta = 1\n",
      "----------------------------------------\n",
      "Done.\n"
     ]
    }
   ],
   "source": [
    "loop = asyncio.get_event_loop() # creating the event loop\n",
    "# adding tasks to the task queue\n",
    "tasks = [\n",
    "    loop.create_task(async_countdown('a', 1)),\n",
    "    loop.create_task(async_countdown('b', 0.8)),\n",
    "    loop.create_task(async_countdown('c', 0.5))\n",
    "]\n",
    "\n",
    "start = time.perf_counter()\n",
    "# run the event loop until all tasks are complete\n",
    "loop.run_until_complete(asyncio.wait(tasks))\n",
    "\n",
    "print('-' * 40)\n",
    "print('Done.')"
   ]
  },
  {
   "cell_type": "markdown",
   "metadata": {},
   "source": [
    "Now we can see how asynchronous program can improve execution time and responsiveness of our programs. Instead of executing individual tasks sequentially, our program now switches between different countdowns and overlaps their processing/waiting time. \n",
    "\n",
    "At the beginning of the program, instead of waiting for the whole first second to print out the first message \"a = 3\", the program switches to the next task in the task queue, in this case it is waiting for 0.8 seconds for the letter \"b\". This process continues until 0.5 seconds have passed, and \"c = 3\" is printed out, and 0.3 seconds later (at time 0.8 seconds), \"b = 3\" is printed out. This all happens before \"a = 3\" is printed out.\n",
    "\n",
    "This task-switching property of our asynchronous program makes it significantly more responsive. Instead of \"hanging\" for one second before the first message is printed, the program now only takes 0.5 seconds (the shortest waiting period) to print out its first message. As for execution time, we see that this time it only takes three seconds in total to execute the whole program (instead of 6.9 seconds). This corresponds to what we speculated--that the execution time would be right around the time it takes to execute the largest task.\n",
    "\n",
    "## Asynchronous Fibonacci\n",
    "\n",
    "Let us try applying asynchronous programming to another problem. In this example we will consider the task of calculating different numbers in the Fibonacci sequence. Our starting function will look like:"
   ]
  },
  {
   "cell_type": "code",
   "execution_count": 7,
   "metadata": {},
   "outputs": [],
   "source": [
    "def seq_fib(n):\n",
    "    # if n = 0, say 0, if n = 1, say 1\n",
    "    if n in [0, 1]:\n",
    "        print(f'{n}: {n}')\n",
    "        print(f'Took {time.perf_counter() - start:.2f} seconds.')\n",
    "    \n",
    "    # sequentially calculating fib(n)\n",
    "    a, b = 1, 2\n",
    "    i = 1\n",
    "    while i < n:\n",
    "        a, b = b, a + b\n",
    "        i += 1\n",
    "    \n",
    "    # printing the last 20 digits if the result is too large\n",
    "    print(f'{n}: {a % (10 ** 20)}')\n",
    "    # printing the time elapsed from the beginning\n",
    "    print(f'Took {time.perf_counter() - start:.2f} seconds.')"
   ]
  },
  {
   "cell_type": "markdown",
   "metadata": {},
   "source": [
    "Now we will use this function to generate different numbers in the sequence:"
   ]
  },
  {
   "cell_type": "code",
   "execution_count": 8,
   "metadata": {},
   "outputs": [
    {
     "name": "stdout",
     "output_type": "stream",
     "text": [
      "1000000: 42277359244926937501\n",
      "Took 12.34 seconds.\n",
      "1000: 91902245245323403501\n",
      "Took 12.34 seconds.\n",
      "20: 10946\n",
      "Took 12.34 seconds.\n"
     ]
    }
   ],
   "source": [
    "start = time.perf_counter()\n",
    "\n",
    "seq_fib(1000000)\n",
    "seq_fib(1000)\n",
    "seq_fib(20)"
   ]
  },
  {
   "cell_type": "markdown",
   "metadata": {},
   "source": [
    "As discussed above, this is one of the situations in which the first task in the program is so large that the execution appears to be hanging while processing this task. This is undesirable in terms of application responsiveness. Furthermore, the other two tasks were light-weight enough that it took almost no time to execute them after the first task.\n",
    "\n",
    "Now, if we were to implement asynchronous programming for this program, we would want to address this problem so that the last two tasks, `seq_fib(1000)` and `seq_fib(20)` would finish before the first task, `seq_fib(1000000)`. To do this we would need to convert the `seq_fib()` function into a coroutine with a specification about the task-switching event inside the function. Below we are specifying inside the while loop that if the iterator `i` is divisible by 50,000 then switch to the next task:"
   ]
  },
  {
   "cell_type": "code",
   "execution_count": 9,
   "metadata": {},
   "outputs": [],
   "source": [
    "async def async_fib(n):\n",
    "    # if n = 0, say 0, if n = 1, say 1\n",
    "    if n in [0, 1]:\n",
    "        print(f'{n}: {n}')\n",
    "        print(f'Took {time.perf_counter() - start:.2f} seconds.')\n",
    "    \n",
    "    # sequentially calculating fib(n)\n",
    "    a, b = 1, 2\n",
    "    i = 1\n",
    "    while i < n:\n",
    "        a, b = b, a + b\n",
    "        \n",
    "        if i % 50000 == 0:\n",
    "            await asyncio.sleep(0) # switches task every 50,000 iterations\n",
    "        \n",
    "        i += 1\n",
    "    \n",
    "    # printing the last 20 digits if the result is too large\n",
    "    print(f'{n}: {a % (10 ** 20)}')\n",
    "    # printing the time elapsed from the beginning\n",
    "    print(f'Took {time.perf_counter() - start:.2f} seconds.')"
   ]
  },
  {
   "cell_type": "markdown",
   "metadata": {},
   "source": [
    "With the coroutine implemented, we now need to set up the event loop and add the tasks to its task queue:"
   ]
  },
  {
   "cell_type": "code",
   "execution_count": 10,
   "metadata": {},
   "outputs": [
    {
     "name": "stdout",
     "output_type": "stream",
     "text": [
      "1000: 91902245245323403501\n",
      "Took 0.06 seconds.\n",
      "20: 10946\n",
      "Took 0.06 seconds.\n",
      "1000000: 42277359244926937501\n",
      "Took 12.26 seconds.\n",
      "Done.\n"
     ]
    }
   ],
   "source": [
    "loop = asyncio.get_event_loop() # creating the event loop\n",
    "# adding tasks to the task queue\n",
    "tasks = [\n",
    "    loop.create_task(async_fib(1000000)),\n",
    "    loop.create_task(async_fib(1000)),\n",
    "    loop.create_task(async_fib(20))\n",
    "]\n",
    "\n",
    "start = time.perf_counter()\n",
    "# run the event loop until all tasks are complete\n",
    "loop.run_until_complete(asyncio.wait(tasks))\n",
    "\n",
    "print('Done.')"
   ]
  },
  {
   "cell_type": "markdown",
   "metadata": {},
   "source": [
    "We see that our problem of responsiveness has been successfully addressed: after running the program, the more light-weight tasks were executed and completed first, and the longest-running task returned last. Again, the implementation of asynchronous programming allows that wherever the light-weight tasks are in the task queue, they will be able to finish first, thus creating better responsiveness for the program.\n",
    "\n",
    "## CPU-bound and Blocking Tasks\n",
    "\n",
    "Asynchronous programming is said to provide us more than just better responsiveness; it provides even better execution time as we saw in the counting-down example. However, when analyzing the execution time obtained from the two versions of our Fibonacci-finding program, the sequential version may have resulted in better speed (on our computers, it did). So does that mean asynchronous programming cannot really provide better speed for our programs?\n",
    "\n",
    "The answer is, it still can, but more steps are needed, specifically for the Fibonacci-finding program. In the `async_fib()` coroutine of that program, most instructions are CPU-bound tasks. This means that the program needs to access the CPU to execute the code, and no waiting/processing time can therefore be overlapped. While task-switching events still take place in our program, which will still improve its responsiveness, no instructions will be overlapping each other and no additional speed can thus be gained. In fact, since there is considerable overhead regarding the implementation and initialization of asynchronous elements, our asynchronous program might, and did, take even longer to execute than the original synchronous program. The same goes for blocking tasks, which also prevent multiple tasks from overlapping with each other.\n",
    "\n",
    "This does not mean that you can't write asynchronous programs with a heavy payload of CPU-bound or blocking tasks. By default, all execution in an asynchronous program occurs in the same thread and process, so CPU-bound or blocking tasks thus prevent multiple program instructions from running in parallel. However, this is not the case if the tasks are distributed to separate threads/processes. In other words, threading and multiprocessing can help asynchronous programs with blocking instructions achieve better execution time.\n",
    "\n",
    "## The `concurrent.futures` Module\n",
    "\n",
    "The `concurrent.futures module` is a high-level interface for executing programs both asynchronously and in parallel. Specifically, `concurrent.futures` provides an an abstract class called `Executor`, which contains the skeleton of the two main classes that implement asynchronous multithreading and multiprocessing, respectively: `ThreadPoolExecutor` and `ProcessPoolExecutor`.\n",
    "\n",
    "Before we jump into the `concurrent.futures` API, let's discuss the basics of asynchronous multithreading/multiprocessing, and how they interact with the framework that `asyncio` provides. As a reminder, we have three major elements in our ecosystem of asynchronous programming: the event loop, coroutines and their corresponding futures. We still need the event loop in multithreading/multiprocessing to coordinate tasks and handle their results. \n",
    "\n",
    "As for the coroutines, since the idea of combining asynchronous programming with multithreading and multiprocessing involves avoiding blocking tasks in the coroutines by executing them in separate threads and processes, the coroutines do not necessarily have to be interpreted as actual coroutines by Python anymore. Instead, they can simply be traditional Python functions.\n",
    "\n",
    "One new element we will need to implement is the executor that facilitates multithreading or multiprocessing; this can be an instance of the `ThreadPoolExecutor` class or the `ProcessPoolExecutor` class. Now, every time we add a task to our task queue in the event loop, we will also need to reference this executor so that tasks will be executed in separate threads/processes. This is done through the `AbstractEventLoop.run_in_executor()` method, which takes an executor, a coroutine or regular function, and arguments for the coroutine/function to be executed in separate threads/processes.\n",
    "\n",
    "Let us try applying this solution to our Fibonacci-finding program:"
   ]
  },
  {
   "cell_type": "code",
   "execution_count": 25,
   "metadata": {},
   "outputs": [
    {
     "name": "stdout",
     "output_type": "stream",
     "text": [
      "1000: 91902245245323403501\n",
      "20: 10946\n",
      "Took 0.03 seconds.\n",
      "Took 0.04 seconds.\n",
      "1000000: 42277359244926937501\n",
      "Took 12.07 seconds.\n"
     ]
    }
   ],
   "source": [
    "from concurrent.futures import ProcessPoolExecutor\n",
    "\n",
    "async def main():\n",
    "    tasks = [\n",
    "        loop.run_in_executor(executor, seq_fib, 1000000),\n",
    "        loop.run_in_executor(executor, seq_fib, 1000),\n",
    "        loop.run_in_executor(executor, seq_fib, 20)\n",
    "    ]\n",
    "    \n",
    "    await asyncio.gather(*tasks)\n",
    "\n",
    "start = time.perf_counter()\n",
    "\n",
    "executor = ProcessPoolExecutor(max_workers=3)\n",
    "loop = asyncio.get_event_loop()\n",
    "loop.run_until_complete(main())"
   ]
  },
  {
   "cell_type": "code",
   "execution_count": 39,
   "metadata": {},
   "outputs": [
    {
     "name": "stdout",
     "output_type": "stream",
     "text": [
      "<Future pending cb=[_chain_future.<locals>._call_check_cancel() at /usr/local/Homebrew/Cellar/python/3.6.5/Frameworks/Python.framework/Versions/3.6/lib/python3.6/asyncio/futures.py:403]>\n"
     ]
    }
   ],
   "source": [
    "def main_no_coroutine():\n",
    "    futures = []\n",
    "    for n in [1000000, 1000, 20]:\n",
    "        f = executor.submit(seq_fib, n)\n",
    "        futures.append(f)\n",
    "    for f in futures:\n",
    "        # f.result() blocks the main thread until the future completes, but the other tasks are still running in the background\n",
    "        print(f.result())\n",
    "\n",
    "executor = ProcessPoolExecutor(max_workers=3)\n",
    "start = time.perf_counter()\n",
    "future = loop.run_in_executor(executor, main_no_coroutine)\n",
    "print(future)"
   ]
  },
  {
   "cell_type": "markdown",
   "metadata": {},
   "source": [
    "We can see that by combining multiprocessing with asynchronous programming, we get \"the best of both worlds\": the consistent responsiveness from asynchronous programming, and the improvement in speed from multiprocessing.\n",
    "\n",
    "# Asynchronous Web-Scraping\n",
    "\n",
    "One of the most common applications of asynchronous programming in data science is data collection via web-scraping. This is the process of automating HTTP requests to various websites and extracting specific information from their HTML source code. When interacting with multiple web servers simultaneously, it is possible that some servers will take longer to process our requests than others. This is the perfect opportunity to implement asynchronous programming, as we can overlap the time spent waiting on the servers that take longer to respond and the time we process the responses that are already returned from other servers.\n",
    "\n",
    "The following diagram further illustrates the concept of asynchronous HTTP server-client communication processes:\n",
    "\n",
    "<table class=\"image\">\n",
    "    <caption align=\"bottom\" style=\"text-align: center\">\n",
    "        Asynchronous Programming Structure<br>\n",
    "        <a href=\"https://en.kodedu.com/2013/06/jax-rs-2-and-longpolling-based-chat-application/\">Source</a>\n",
    "    </caption>\n",
    "    <tr><td><img width=500 src=\"images/jax_rs_async.png\"></img></td></tr>\n",
    "</table>\n",
    "\n",
    "In this section we will also be introduced with another module supporting asynchronous programming options: `aiohttp` (which stands for Asynchronous I/O HTTP). This module provides high-level functionalities that streamline HTTP communication procedures, and it additionally works really well with the `asyncio` module to facilitate asynchronous programming.\n",
    "\n",
    "## Fetching a Website's HTML Code\n",
    "\n",
    "Let us first look at how to make a request and obtain the HTML source code from a single website with aiohttp. Note that even with only one task (website), our application still remains asynchronous, and the structure of an asynchronous program still needs to be implemented. The general structure of the program is as follow:"
   ]
  },
  {
   "cell_type": "code",
   "execution_count": null,
   "metadata": {},
   "outputs": [],
   "source": [
    "import aiohttp\n",
    "\n",
    "async def get_html(session, url):\n",
    "    async with session.get(url, ssl=False) as res:\n",
    "        return await res.text()\n",
    "\n",
    "async def main():\n",
    "    async with aiohttp.ClientSession() as session:\n",
    "        html = await get_html(session, 'http://datascience.com')\n",
    "        print(html[: 1000]) # first 1000 characters\n",
    "\n",
    "loop = asyncio.get_event_loop()\n",
    "loop.run_until_complete(main())"
   ]
  },
  {
   "cell_type": "markdown",
   "metadata": {},
   "source": [
    "Let's consider the `main()` coroutine first. We are initiating an instance from the `aiohttp.ClientSession` class within a context manager; note that we are placing the `async` keyword in front of this declaration also, since the whole context block itself will also be treated as a coroutine. Inside this block we are calling and waiting for the `get_html()` coroutine to process and return.\n",
    "\n",
    "Turning our attention to the `get_html()` coroutine, we see that it takes in a session object and a url for the website that we want to extract HTML source code from. Inside this function we make another context manager asynchronous, which is used to make a GET request and store the response from the server to the variable res. Finally, we return the HTML source code stored in the response; since the response is an object returned from the `aiohttp.ClientSession` class, its methods are asynchronous functions and we therefore need to specify the keyword `await` when we call the `text()` function.\n",
    "\n",
    "Finally, we are printing out the first 1,000 characters of the HTML code returned from the website we specified - in this case it is the homepage of [DataScience.com](https://www.datascience.com).\n",
    "\n",
    "## Writing Files Asynchronously\n",
    "\n",
    "Most of the time, we would like to collect data by making requests to multiple websites, and simply printing out the response HTML code is inappropriate for many reasons; instead, we'd like to write the returned HTML code to output files. This process, in essence, is asynchronous downloading, which is also implemented in the underlying architecture of popular download managers. To do this we will use the `aiofiles` module, which is used to facilitate this asynchronous file-writing processes, in combination with `aiohttp` and `asyncio`.\n",
    "\n",
    "To do this, we first need to modify our `get_html()` coroutine, which originally simply returns the HTML code in the server's response, so that it can now write that HTML code to file in an asynchronous manner."
   ]
  },
  {
   "cell_type": "code",
   "execution_count": null,
   "metadata": {},
   "outputs": [],
   "source": [
    "import aiofiles\n",
    "import os\n",
    "\n",
    "async def download_html(session, url):\n",
    "    async with session.get(url, ssl=False) as res:\n",
    "        filename = f'output_{os.path.basename(url)}.html'\n",
    "        \n",
    "        async with aiofiles.open(filename, 'wb') as f:\n",
    "            while True:\n",
    "                chunk = await res.content.read(1024)\n",
    "                if not chunk:\n",
    "                    break\n",
    "                await f.write(chunk)\n",
    "            \n",
    "        return await res.release()"
   ]
  },
  {
   "cell_type": "markdown",
   "metadata": {},
   "source": [
    "Instead of using an aiohttp.ClientSession instance to make a GET request and print out the returned HTML code, we now write the HTML code to file using the aiofiles module. For example, to facilitate asynchronous file writing, we use the asynchronous `open()` function from `aiofiles` to read in a file in a context manager. Furthermore, we also read the returned HTML in chunks asynchronously using the `read()` function for the content attribute of the response object--this means that after reading 1024 bytes of the current response, the execution flow will be released back to the event loop and the task-switching event will take place.\n",
    "\n",
    "Now we can implement the main part of our program:"
   ]
  },
  {
   "cell_type": "code",
   "execution_count": null,
   "metadata": {},
   "outputs": [],
   "source": [
    "async def main(url):\n",
    "    async with aiohttp.ClientSession() as session:\n",
    "        await download_html(session, url)\n",
    "        \n",
    "urls = [...] # a big list of websites to scrape\n",
    "\n",
    "loop = asyncio.get_event_loop()\n",
    "loop.run_until_complete(\n",
    "    asyncio.gather(*(main(url) for url in urls))\n",
    ")"
   ]
  },
  {
   "cell_type": "markdown",
   "metadata": {},
   "source": [
    "The `main()` coroutine takes in a URL and pass it to the `download_html()` coroutine, together with an `aiohttp.ClientSession` instance. Finally, in our main program we create an event loop and pass each item in a specified list of URLs to the `main()` coroutine.\n",
    "\n",
    "Try this program with your favorite websites to see the improvements that can be achieved via asynchronous programming. As a note specifically regarding the legality of web-scraping, it is important to know and understand usage-of-data policies of websites that you would like to scrape from. Even though cooperative web-scraping is generally acceptable, some websites do not allow automated engines to collect their data and scraping data from these websites is therefore illegal.\n",
    "\n",
    "# Conclusion\n",
    "\n",
    "In this tutorial, we have learnt about the foudnational idea of asynchronous programming and the main elements of any asynchronous program. We have seen the process of implementing asynchronous programs in Python via various examples, and we finally designed a simply asynchronous web-scraping engine. Throughout this tutorial, various points about the advantages of asynchronous programming in comparison with traditional sequential programming such as better speed and improved responsiveness have also been made."
   ]
  }
 ],
 "metadata": {
  "kernelspec": {
   "display_name": "Python 3",
   "language": "python",
   "name": "python3"
  },
  "language_info": {
   "codemirror_mode": {
    "name": "ipython",
    "version": 3
   },
   "file_extension": ".py",
   "mimetype": "text/x-python",
   "name": "python",
   "nbconvert_exporter": "python",
   "pygments_lexer": "ipython3",
   "version": "3.6.5"
  },
  "toc": {
   "colors": {
    "hover_highlight": "#DAA520",
    "navigate_num": "#000000",
    "navigate_text": "#333333",
    "running_highlight": "#FF0000",
    "selected_highlight": "#FFD700",
    "sidebar_border": "#EEEEEE",
    "wrapper_background": "#FFFFFF"
   },
   "moveMenuLeft": true,
   "nav_menu": {
    "height": "288.017px",
    "width": "252px"
   },
   "navigate_menu": true,
   "number_sections": true,
   "sideBar": true,
   "threshold": 4,
   "toc_cell": false,
   "toc_section_display": "none",
   "toc_window_display": true,
   "widenNotebook": false
  }
 },
 "nbformat": 4,
 "nbformat_minor": 2
}
